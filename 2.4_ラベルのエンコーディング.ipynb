{
 "cells": [
  {
   "cell_type": "code",
   "execution_count": 2,
   "metadata": {},
   "outputs": [],
   "source": [
    "import numpy as np\n",
    "from sklearn import preprocessing"
   ]
  },
  {
   "cell_type": "code",
   "execution_count": 3,
   "metadata": {},
   "outputs": [],
   "source": [
    "input_labels = ['red', 'black', 'red', 'green', 'black', 'yellow', 'white']"
   ]
  },
  {
   "cell_type": "code",
   "execution_count": 4,
   "metadata": {},
   "outputs": [
    {
     "data": {
      "text/plain": [
       "LabelEncoder()"
      ]
     },
     "execution_count": 4,
     "metadata": {},
     "output_type": "execute_result"
    }
   ],
   "source": [
    "encoder = preprocessing.LabelEncoder()\n",
    "encoder.fit(input_labels)"
   ]
  },
  {
   "cell_type": "code",
   "execution_count": 6,
   "metadata": {},
   "outputs": [
    {
     "name": "stdout",
     "output_type": "stream",
     "text": [
      "Label mapping:\n",
      "black --> 0\n",
      "green --> 1\n",
      "red --> 2\n",
      "white --> 3\n",
      "yellow --> 4\n"
     ]
    }
   ],
   "source": [
    "print(\"Label mapping:\")\n",
    "for i, item in enumerate(encoder.classes_):\n",
    "    print(item, '-->', i)"
   ]
  },
  {
   "cell_type": "code",
   "execution_count": 12,
   "metadata": {},
   "outputs": [
    {
     "name": "stdout",
     "output_type": "stream",
     "text": [
      "Labels = ['green', 'red', 'black']\n",
      "Encoded values = [1, 2, 0]\n"
     ]
    }
   ],
   "source": [
    "test_labels =['green', 'red', 'black']\n",
    "encoded_values = encoder.transform(test_labels)\n",
    "print(\"Labels =\", test_labels)\n",
    "print(\"Encoded values =\", list(encoded_values))"
   ]
  },
  {
   "cell_type": "code",
   "execution_count": 13,
   "metadata": {},
   "outputs": [
    {
     "name": "stdout",
     "output_type": "stream",
     "text": [
      "Encoded values = [3, 0, 4, 1]\n",
      "Decoded labels = ['white', 'black', 'yellow', 'green']\n"
     ]
    }
   ],
   "source": [
    "encoded_values = [3, 0, 4, 1]\n",
    "decoded_list = encoder.inverse_transform(encoded_values)\n",
    "print(\"Encoded values =\", encoded_values)\n",
    "print(\"Decoded labels =\", list(decoded_list))"
   ]
  },
  {
   "cell_type": "code",
   "execution_count": null,
   "metadata": {},
   "outputs": [],
   "source": []
  }
 ],
 "metadata": {
  "kernelspec": {
   "display_name": "Python 3.8.5 64-bit (conda)",
   "language": "python",
   "name": "python385jvsc74a57bd0e5a7103279874296e0ac51ea5c28e3ba275214f504e169eb55753a197e58945e"
  },
  "language_info": {
   "codemirror_mode": {
    "name": "ipython",
    "version": 3
   },
   "file_extension": ".py",
   "mimetype": "text/x-python",
   "name": "python",
   "nbconvert_exporter": "python",
   "pygments_lexer": "ipython3",
   "version": "3.8.5"
  }
 },
 "nbformat": 4,
 "nbformat_minor": 4
}
